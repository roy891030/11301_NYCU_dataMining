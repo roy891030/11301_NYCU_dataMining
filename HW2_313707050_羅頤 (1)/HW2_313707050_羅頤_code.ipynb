{
  "nbformat": 4,
  "nbformat_minor": 0,
  "metadata": {
    "colab": {
      "provenance": []
    },
    "kernelspec": {
      "name": "python3",
      "display_name": "Python 3"
    },
    "language_info": {
      "name": "python"
    }
  },
  "cells": [
    {
      "cell_type": "markdown",
      "source": [
        "1.       資料前處理\n",
        "\n",
        "\n",
        "         1.1      讀取 csv 檔後取前 1 萬筆資料，僅保留 \"Text\"、\"Score\" 兩個欄位\n",
        "                  ●      將 \"Score\" 欄位內值大於等於 4 的轉成 1，其餘轉成 0 (1: positive 0: negative)\n",
        "                  ●      將 \"Text\" 欄位內的文字利用分割符號切割\n",
        "         1.2      去除停頓詞stop words ，可參考：\n",
        "                  ●      sklearn.feature_extraction.text.CountVectorizer\n",
        "                  ●      自訂stop words\n",
        "         1.3      文字探勘前處理，將文字轉換成向量，請實作 tf-idf 及 word2vec 並進行比較，可參考：\n",
        "                  ●      sklearn.feature_extraction.text.TfidfVectorizer\n",
        "                  ●      Word2vec\n",
        "\n",
        "2.          建模：使用 Random forest 進行分類\n",
        "\n",
        "3.          評估模型：進行 k-fold cross-validation 並計算 k=4 的 Accuracy，上傳程式碼與報告"
      ],
      "metadata": {
        "id": "ltcqed_gH2Et"
      }
    },
    {
      "cell_type": "code",
      "execution_count": 1,
      "metadata": {
        "colab": {
          "base_uri": "https://localhost:8080/"
        },
        "id": "KUoPhHOkGsAQ",
        "outputId": "d4b8f3eb-8ed5-419c-dafb-4845cce2e4f4"
      },
      "outputs": [
        {
          "output_type": "stream",
          "name": "stdout",
          "text": [
            "Mounted at /content/drive\n"
          ]
        }
      ],
      "source": [
        "from google.colab import drive\n",
        "drive.mount('/content/drive')"
      ]
    },
    {
      "cell_type": "code",
      "source": [
        "import pandas as pd\n",
        "import numpy as np"
      ],
      "metadata": {
        "id": "GhUnLrGGI7jB"
      },
      "execution_count": 3,
      "outputs": []
    },
    {
      "cell_type": "code",
      "source": [
        "train = pd.read_csv('/content/drive/MyDrive/碩一上課堂/1131_dataMining/dataMining/HW2/Reviews.csv')\n",
        "test = pd.read_csv('/content/drive/MyDrive/碩一上課堂/1131_dataMining/dataMining/HW2/test.csv')"
      ],
      "metadata": {
        "id": "qLy0iB0MH22z"
      },
      "execution_count": 4,
      "outputs": []
    },
    {
      "cell_type": "code",
      "source": [
        "train = train.iloc[:10000]\n",
        "\n",
        "# 將 \"Score\" 欄位中的值大於等於 4 的轉換成 1，其餘轉成 0\n",
        "train['Sentiment'] = train['Score'].apply(lambda x: 1 if x >= 4 else 0)\n",
        "train['Score']=train['Sentiment']"
      ],
      "metadata": {
        "id": "Ntej87jxJAGP",
        "colab": {
          "base_uri": "https://localhost:8080/"
        },
        "outputId": "2b526844-324e-44d4-919f-3a1d012be6a7"
      },
      "execution_count": 5,
      "outputs": [
        {
          "output_type": "stream",
          "name": "stderr",
          "text": [
            "<ipython-input-5-0dae12baba85>:4: SettingWithCopyWarning: \n",
            "A value is trying to be set on a copy of a slice from a DataFrame.\n",
            "Try using .loc[row_indexer,col_indexer] = value instead\n",
            "\n",
            "See the caveats in the documentation: https://pandas.pydata.org/pandas-docs/stable/user_guide/indexing.html#returning-a-view-versus-a-copy\n",
            "  train['Sentiment'] = train['Score'].apply(lambda x: 1 if x >= 4 else 0)\n",
            "<ipython-input-5-0dae12baba85>:5: SettingWithCopyWarning: \n",
            "A value is trying to be set on a copy of a slice from a DataFrame.\n",
            "Try using .loc[row_indexer,col_indexer] = value instead\n",
            "\n",
            "See the caveats in the documentation: https://pandas.pydata.org/pandas-docs/stable/user_guide/indexing.html#returning-a-view-versus-a-copy\n",
            "  train['Score']=train['Sentiment']\n"
          ]
        }
      ]
    },
    {
      "cell_type": "code",
      "source": [
        "# 將 \"Text\" 欄位中的文字按照空格進行切割\n",
        "train['Text_Split'] = train['Text'].apply(lambda x: x.split())"
      ],
      "metadata": {
        "id": "iimumhjNKDAs"
      },
      "execution_count": 7,
      "outputs": []
    },
    {
      "cell_type": "code",
      "source": [
        "# 只選擇 Sentiment 和 Text 欄位\n",
        "train = train[['Sentiment', 'Text_Split']]\n",
        "# 查看篩選後的數據\n",
        "train.head()"
      ],
      "metadata": {
        "colab": {
          "base_uri": "https://localhost:8080/",
          "height": 206
        },
        "id": "UzLFkN1IKWsS",
        "outputId": "c0b50e78-57fa-4887-afc6-1d4b0cfb716f"
      },
      "execution_count": 8,
      "outputs": [
        {
          "output_type": "execute_result",
          "data": {
            "text/plain": [
              "   Sentiment                                         Text_Split\n",
              "0          1  [I, have, bought, several, of, the, Vitality, ...\n",
              "1          0  [Product, arrived, labeled, as, Jumbo, Salted,...\n",
              "2          1  [This, is, a, confection, that, has, been, aro...\n",
              "3          0  [If, you, are, looking, for, the, secret, ingr...\n",
              "4          1  [Great, taffy, at, a, great, price., There, wa..."
            ],
            "text/html": [
              "\n",
              "  <div id=\"df-669d49fe-16ab-4e43-8007-52856031773f\" class=\"colab-df-container\">\n",
              "    <div>\n",
              "<style scoped>\n",
              "    .dataframe tbody tr th:only-of-type {\n",
              "        vertical-align: middle;\n",
              "    }\n",
              "\n",
              "    .dataframe tbody tr th {\n",
              "        vertical-align: top;\n",
              "    }\n",
              "\n",
              "    .dataframe thead th {\n",
              "        text-align: right;\n",
              "    }\n",
              "</style>\n",
              "<table border=\"1\" class=\"dataframe\">\n",
              "  <thead>\n",
              "    <tr style=\"text-align: right;\">\n",
              "      <th></th>\n",
              "      <th>Sentiment</th>\n",
              "      <th>Text_Split</th>\n",
              "    </tr>\n",
              "  </thead>\n",
              "  <tbody>\n",
              "    <tr>\n",
              "      <th>0</th>\n",
              "      <td>1</td>\n",
              "      <td>[I, have, bought, several, of, the, Vitality, ...</td>\n",
              "    </tr>\n",
              "    <tr>\n",
              "      <th>1</th>\n",
              "      <td>0</td>\n",
              "      <td>[Product, arrived, labeled, as, Jumbo, Salted,...</td>\n",
              "    </tr>\n",
              "    <tr>\n",
              "      <th>2</th>\n",
              "      <td>1</td>\n",
              "      <td>[This, is, a, confection, that, has, been, aro...</td>\n",
              "    </tr>\n",
              "    <tr>\n",
              "      <th>3</th>\n",
              "      <td>0</td>\n",
              "      <td>[If, you, are, looking, for, the, secret, ingr...</td>\n",
              "    </tr>\n",
              "    <tr>\n",
              "      <th>4</th>\n",
              "      <td>1</td>\n",
              "      <td>[Great, taffy, at, a, great, price., There, wa...</td>\n",
              "    </tr>\n",
              "  </tbody>\n",
              "</table>\n",
              "</div>\n",
              "    <div class=\"colab-df-buttons\">\n",
              "\n",
              "  <div class=\"colab-df-container\">\n",
              "    <button class=\"colab-df-convert\" onclick=\"convertToInteractive('df-669d49fe-16ab-4e43-8007-52856031773f')\"\n",
              "            title=\"Convert this dataframe to an interactive table.\"\n",
              "            style=\"display:none;\">\n",
              "\n",
              "  <svg xmlns=\"http://www.w3.org/2000/svg\" height=\"24px\" viewBox=\"0 -960 960 960\">\n",
              "    <path d=\"M120-120v-720h720v720H120Zm60-500h600v-160H180v160Zm220 220h160v-160H400v160Zm0 220h160v-160H400v160ZM180-400h160v-160H180v160Zm440 0h160v-160H620v160ZM180-180h160v-160H180v160Zm440 0h160v-160H620v160Z\"/>\n",
              "  </svg>\n",
              "    </button>\n",
              "\n",
              "  <style>\n",
              "    .colab-df-container {\n",
              "      display:flex;\n",
              "      gap: 12px;\n",
              "    }\n",
              "\n",
              "    .colab-df-convert {\n",
              "      background-color: #E8F0FE;\n",
              "      border: none;\n",
              "      border-radius: 50%;\n",
              "      cursor: pointer;\n",
              "      display: none;\n",
              "      fill: #1967D2;\n",
              "      height: 32px;\n",
              "      padding: 0 0 0 0;\n",
              "      width: 32px;\n",
              "    }\n",
              "\n",
              "    .colab-df-convert:hover {\n",
              "      background-color: #E2EBFA;\n",
              "      box-shadow: 0px 1px 2px rgba(60, 64, 67, 0.3), 0px 1px 3px 1px rgba(60, 64, 67, 0.15);\n",
              "      fill: #174EA6;\n",
              "    }\n",
              "\n",
              "    .colab-df-buttons div {\n",
              "      margin-bottom: 4px;\n",
              "    }\n",
              "\n",
              "    [theme=dark] .colab-df-convert {\n",
              "      background-color: #3B4455;\n",
              "      fill: #D2E3FC;\n",
              "    }\n",
              "\n",
              "    [theme=dark] .colab-df-convert:hover {\n",
              "      background-color: #434B5C;\n",
              "      box-shadow: 0px 1px 3px 1px rgba(0, 0, 0, 0.15);\n",
              "      filter: drop-shadow(0px 1px 2px rgba(0, 0, 0, 0.3));\n",
              "      fill: #FFFFFF;\n",
              "    }\n",
              "  </style>\n",
              "\n",
              "    <script>\n",
              "      const buttonEl =\n",
              "        document.querySelector('#df-669d49fe-16ab-4e43-8007-52856031773f button.colab-df-convert');\n",
              "      buttonEl.style.display =\n",
              "        google.colab.kernel.accessAllowed ? 'block' : 'none';\n",
              "\n",
              "      async function convertToInteractive(key) {\n",
              "        const element = document.querySelector('#df-669d49fe-16ab-4e43-8007-52856031773f');\n",
              "        const dataTable =\n",
              "          await google.colab.kernel.invokeFunction('convertToInteractive',\n",
              "                                                    [key], {});\n",
              "        if (!dataTable) return;\n",
              "\n",
              "        const docLinkHtml = 'Like what you see? Visit the ' +\n",
              "          '<a target=\"_blank\" href=https://colab.research.google.com/notebooks/data_table.ipynb>data table notebook</a>'\n",
              "          + ' to learn more about interactive tables.';\n",
              "        element.innerHTML = '';\n",
              "        dataTable['output_type'] = 'display_data';\n",
              "        await google.colab.output.renderOutput(dataTable, element);\n",
              "        const docLink = document.createElement('div');\n",
              "        docLink.innerHTML = docLinkHtml;\n",
              "        element.appendChild(docLink);\n",
              "      }\n",
              "    </script>\n",
              "  </div>\n",
              "\n",
              "\n",
              "<div id=\"df-eb579a9e-270d-4742-a4b2-3d0d10167e4e\">\n",
              "  <button class=\"colab-df-quickchart\" onclick=\"quickchart('df-eb579a9e-270d-4742-a4b2-3d0d10167e4e')\"\n",
              "            title=\"Suggest charts\"\n",
              "            style=\"display:none;\">\n",
              "\n",
              "<svg xmlns=\"http://www.w3.org/2000/svg\" height=\"24px\"viewBox=\"0 0 24 24\"\n",
              "     width=\"24px\">\n",
              "    <g>\n",
              "        <path d=\"M19 3H5c-1.1 0-2 .9-2 2v14c0 1.1.9 2 2 2h14c1.1 0 2-.9 2-2V5c0-1.1-.9-2-2-2zM9 17H7v-7h2v7zm4 0h-2V7h2v10zm4 0h-2v-4h2v4z\"/>\n",
              "    </g>\n",
              "</svg>\n",
              "  </button>\n",
              "\n",
              "<style>\n",
              "  .colab-df-quickchart {\n",
              "      --bg-color: #E8F0FE;\n",
              "      --fill-color: #1967D2;\n",
              "      --hover-bg-color: #E2EBFA;\n",
              "      --hover-fill-color: #174EA6;\n",
              "      --disabled-fill-color: #AAA;\n",
              "      --disabled-bg-color: #DDD;\n",
              "  }\n",
              "\n",
              "  [theme=dark] .colab-df-quickchart {\n",
              "      --bg-color: #3B4455;\n",
              "      --fill-color: #D2E3FC;\n",
              "      --hover-bg-color: #434B5C;\n",
              "      --hover-fill-color: #FFFFFF;\n",
              "      --disabled-bg-color: #3B4455;\n",
              "      --disabled-fill-color: #666;\n",
              "  }\n",
              "\n",
              "  .colab-df-quickchart {\n",
              "    background-color: var(--bg-color);\n",
              "    border: none;\n",
              "    border-radius: 50%;\n",
              "    cursor: pointer;\n",
              "    display: none;\n",
              "    fill: var(--fill-color);\n",
              "    height: 32px;\n",
              "    padding: 0;\n",
              "    width: 32px;\n",
              "  }\n",
              "\n",
              "  .colab-df-quickchart:hover {\n",
              "    background-color: var(--hover-bg-color);\n",
              "    box-shadow: 0 1px 2px rgba(60, 64, 67, 0.3), 0 1px 3px 1px rgba(60, 64, 67, 0.15);\n",
              "    fill: var(--button-hover-fill-color);\n",
              "  }\n",
              "\n",
              "  .colab-df-quickchart-complete:disabled,\n",
              "  .colab-df-quickchart-complete:disabled:hover {\n",
              "    background-color: var(--disabled-bg-color);\n",
              "    fill: var(--disabled-fill-color);\n",
              "    box-shadow: none;\n",
              "  }\n",
              "\n",
              "  .colab-df-spinner {\n",
              "    border: 2px solid var(--fill-color);\n",
              "    border-color: transparent;\n",
              "    border-bottom-color: var(--fill-color);\n",
              "    animation:\n",
              "      spin 1s steps(1) infinite;\n",
              "  }\n",
              "\n",
              "  @keyframes spin {\n",
              "    0% {\n",
              "      border-color: transparent;\n",
              "      border-bottom-color: var(--fill-color);\n",
              "      border-left-color: var(--fill-color);\n",
              "    }\n",
              "    20% {\n",
              "      border-color: transparent;\n",
              "      border-left-color: var(--fill-color);\n",
              "      border-top-color: var(--fill-color);\n",
              "    }\n",
              "    30% {\n",
              "      border-color: transparent;\n",
              "      border-left-color: var(--fill-color);\n",
              "      border-top-color: var(--fill-color);\n",
              "      border-right-color: var(--fill-color);\n",
              "    }\n",
              "    40% {\n",
              "      border-color: transparent;\n",
              "      border-right-color: var(--fill-color);\n",
              "      border-top-color: var(--fill-color);\n",
              "    }\n",
              "    60% {\n",
              "      border-color: transparent;\n",
              "      border-right-color: var(--fill-color);\n",
              "    }\n",
              "    80% {\n",
              "      border-color: transparent;\n",
              "      border-right-color: var(--fill-color);\n",
              "      border-bottom-color: var(--fill-color);\n",
              "    }\n",
              "    90% {\n",
              "      border-color: transparent;\n",
              "      border-bottom-color: var(--fill-color);\n",
              "    }\n",
              "  }\n",
              "</style>\n",
              "\n",
              "  <script>\n",
              "    async function quickchart(key) {\n",
              "      const quickchartButtonEl =\n",
              "        document.querySelector('#' + key + ' button');\n",
              "      quickchartButtonEl.disabled = true;  // To prevent multiple clicks.\n",
              "      quickchartButtonEl.classList.add('colab-df-spinner');\n",
              "      try {\n",
              "        const charts = await google.colab.kernel.invokeFunction(\n",
              "            'suggestCharts', [key], {});\n",
              "      } catch (error) {\n",
              "        console.error('Error during call to suggestCharts:', error);\n",
              "      }\n",
              "      quickchartButtonEl.classList.remove('colab-df-spinner');\n",
              "      quickchartButtonEl.classList.add('colab-df-quickchart-complete');\n",
              "    }\n",
              "    (() => {\n",
              "      let quickchartButtonEl =\n",
              "        document.querySelector('#df-eb579a9e-270d-4742-a4b2-3d0d10167e4e button');\n",
              "      quickchartButtonEl.style.display =\n",
              "        google.colab.kernel.accessAllowed ? 'block' : 'none';\n",
              "    })();\n",
              "  </script>\n",
              "</div>\n",
              "\n",
              "    </div>\n",
              "  </div>\n"
            ],
            "application/vnd.google.colaboratory.intrinsic+json": {
              "type": "dataframe",
              "variable_name": "train",
              "summary": "{\n  \"name\": \"train\",\n  \"rows\": 10000,\n  \"fields\": [\n    {\n      \"column\": \"Sentiment\",\n      \"properties\": {\n        \"dtype\": \"number\",\n        \"std\": 0,\n        \"min\": 0,\n        \"max\": 1,\n        \"num_unique_values\": 2,\n        \"samples\": [\n          0,\n          1\n        ],\n        \"semantic_type\": \"\",\n        \"description\": \"\"\n      }\n    },\n    {\n      \"column\": \"Text_Split\",\n      \"properties\": {\n        \"dtype\": \"object\",\n        \"semantic_type\": \"\",\n        \"description\": \"\"\n      }\n    }\n  ]\n}"
            }
          },
          "metadata": {},
          "execution_count": 8
        }
      ]
    },
    {
      "cell_type": "code",
      "source": [
        "from sklearn.feature_extraction.text import CountVectorizer\n",
        "\n",
        "# 建立 CountVectorizer 並去除英文停頓詞\n",
        "vectorizer = CountVectorizer(stop_words='english')\n",
        "\n",
        "# 將 \"Text_Split\" 欄位中的詞語列表轉換回字串，並用空格連接\n",
        "train['Text_Joined'] = train['Text_Split'].apply(lambda x: ' '.join(x))\n",
        "\n",
        "# 將 \"Text_Joined\" 欄位進行詞頻向量化，並轉換成詞頻矩陣\n",
        "train_text_matrix = vectorizer.fit_transform(train['Text_Joined'])"
      ],
      "metadata": {
        "id": "-LnDz4pXKhfz",
        "colab": {
          "base_uri": "https://localhost:8080/"
        },
        "outputId": "abe87085-6e4c-49c6-be83-60736a3cc841"
      },
      "execution_count": 9,
      "outputs": [
        {
          "output_type": "stream",
          "name": "stderr",
          "text": [
            "<ipython-input-9-1de998e7206b>:7: SettingWithCopyWarning: \n",
            "A value is trying to be set on a copy of a slice from a DataFrame.\n",
            "Try using .loc[row_indexer,col_indexer] = value instead\n",
            "\n",
            "See the caveats in the documentation: https://pandas.pydata.org/pandas-docs/stable/user_guide/indexing.html#returning-a-view-versus-a-copy\n",
            "  train['Text_Joined'] = train['Text_Split'].apply(lambda x: ' '.join(x))\n"
          ]
        }
      ]
    },
    {
      "cell_type": "code",
      "source": [
        "# 查看結果，顯示前幾個向量化的特徵名稱\n",
        "vectorizer.get_feature_names_out()[:10]"
      ],
      "metadata": {
        "colab": {
          "base_uri": "https://localhost:8080/"
        },
        "id": "1KbweQ4FK7Vx",
        "outputId": "89bc0236-08db-4425-e8e8-f748d312e63d"
      },
      "execution_count": 10,
      "outputs": [
        {
          "output_type": "execute_result",
          "data": {
            "text/plain": [
              "array(['00', '000', '0003', '000kwh', '002', '008', '0100', '0174', '02',\n",
              "       '03'], dtype=object)"
            ]
          },
          "metadata": {},
          "execution_count": 10
        }
      ]
    },
    {
      "cell_type": "code",
      "source": [
        "from sklearn.feature_extraction.text import TfidfVectorizer\n",
        "\n",
        "# 使用 TfidfVectorizer 將文字轉換成 TF-IDF 向量\n",
        "tfidf_vectorizer = TfidfVectorizer(stop_words='english')\n",
        "tfidf_matrix = tfidf_vectorizer.fit_transform(train['Text_Joined'])\n",
        "\n",
        "# 查看 TF-IDF 特徵名稱與矩陣形狀\n",
        "print(\"TF-IDF 特徵名稱:\", tfidf_vectorizer.get_feature_names_out()[:10])\n",
        "print(\"TF-IDF 矩陣形狀:\", tfidf_matrix.shape)"
      ],
      "metadata": {
        "colab": {
          "base_uri": "https://localhost:8080/"
        },
        "id": "eS2iUSV4LMWA",
        "outputId": "23115fa7-973d-4070-a445-e66cd65cb4dc"
      },
      "execution_count": 11,
      "outputs": [
        {
          "output_type": "stream",
          "name": "stdout",
          "text": [
            "TF-IDF 特徵名稱: ['00' '000' '0003' '000kwh' '002' '008' '0100' '0174' '02' '03']\n",
            "TF-IDF 矩陣形狀: (10000, 18497)\n"
          ]
        }
      ]
    },
    {
      "cell_type": "code",
      "source": [
        "import gensim\n",
        "from gensim.models import Word2Vec\n",
        "\n",
        "# 將文本分詞，作為 Word2Vec 的輸入\n",
        "sentences = [text.split() for text in train['Text_Joined']]\n",
        "\n",
        "# 訓練 Word2Vec 模型\n",
        "w2v_model = Word2Vec(sentences, vector_size=100, window=5, min_count=2, workers=4)\n",
        "\n",
        "# 檢查詞向量\n",
        "word_vectors = w2v_model.wv\n",
        "print(\"單詞 'good' 的詞向量:\", word_vectors['good'])\n",
        "\n",
        "# 查看詞彙表中的單詞\n",
        "print(\"詞彙表中前幾個單詞:\", list(word_vectors.index_to_key)[:10])"
      ],
      "metadata": {
        "colab": {
          "base_uri": "https://localhost:8080/"
        },
        "id": "yVC22LAuLb8p",
        "outputId": "bca7dd5e-003e-494d-ea4d-bf7a60ec21d2"
      },
      "execution_count": 12,
      "outputs": [
        {
          "output_type": "stream",
          "name": "stdout",
          "text": [
            "單詞 'good' 的詞向量: [ 1.9225432  -0.47449127  0.19446209  0.8912177  -1.7635849  -1.735948\n",
            " -0.02128645  2.8026247  -0.53308845 -0.37741864  0.6276876  -0.334014\n",
            "  1.3019202   1.0143217   0.5592164  -0.93458444 -0.17746797  0.00710296\n",
            " -0.5011382  -1.384002    1.9531538   0.78040665  0.07337439 -1.5564762\n",
            " -0.03785439 -0.30294925 -0.13875423 -1.4696052   0.9126311   0.5855332\n",
            " -1.450689    0.70107543  0.7886719  -1.1178389  -1.5856347   0.8806124\n",
            " -0.4583492  -0.2241123  -1.1303219  -0.21381584  0.55194485 -0.518169\n",
            "  0.70356613 -0.16478164  1.1614431  -0.06038078 -0.993599   -1.1295825\n",
            "  0.7546568   0.77918977 -0.5223206  -0.07687534 -0.5169344  -0.34535813\n",
            "  1.6358333  -0.57674927  0.6031068   0.29386595  1.5168724  -0.96183836\n",
            "  1.583746   -0.6042128   1.2860452  -0.89399606 -0.78255224  2.3356998\n",
            "  0.3880542   0.6028807  -2.3409338   1.9738879   0.49397117  0.13006438\n",
            " -0.00387746 -0.6145722   0.33229202 -0.44167715  1.2782948  -0.6410463\n",
            " -0.95977116  1.0088003   0.9129078   1.0368747  -2.1481006  -0.56437176\n",
            " -0.6065944   0.2523859  -0.33095804 -0.01357657  0.55739504  0.7494267\n",
            "  0.3924408  -0.8882057  -0.9788958  -0.40232265  0.44762182 -0.13936105\n",
            " -1.7143933  -0.4807731  -0.16338727 -0.238431  ]\n",
            "詞彙表中前幾個單詞: ['the', 'I', 'and', 'a', 'to', 'of', 'is', 'it', 'for', 'this']\n"
          ]
        }
      ]
    },
    {
      "cell_type": "markdown",
      "source": [
        "## 透過RF分類"
      ],
      "metadata": {
        "id": "0LtCduSZSqlN"
      }
    },
    {
      "cell_type": "code",
      "source": [
        "from sklearn.feature_extraction.text import TfidfVectorizer\n",
        "from sklearn.ensemble import RandomForestClassifier\n",
        "from sklearn.model_selection import cross_val_score\n",
        "\n",
        "# 使用 TfidfVectorizer 將文字轉換成 TF-IDF 向量\n",
        "tfidf_vectorizer = TfidfVectorizer(stop_words='english')\n",
        "tfidf_matrix = tfidf_vectorizer.fit_transform(train['Text_Joined'])\n",
        "\n",
        "# 建立隨機森林模型\n",
        "rf_tfidf = RandomForestClassifier(n_estimators=100, random_state=42)\n",
        "\n",
        "# 使用 k=4 進行交叉驗證\n",
        "cv_scores_tfidf = cross_val_score(rf_tfidf, tfidf_matrix, train['Sentiment'], cv=4, scoring='accuracy')\n",
        "\n",
        "# 輸出每次交叉驗證的準確率以及平均準確率\n",
        "print(\"TF-IDF + 隨機森林 k=4 的準確率:\", cv_scores_tfidf)\n",
        "print(\"TF-IDF + 隨機森林 k=4 的平均準確率:\", cv_scores_tfidf.mean())\n"
      ],
      "metadata": {
        "id": "3wvc84WZLp46",
        "colab": {
          "base_uri": "https://localhost:8080/"
        },
        "outputId": "d5012003-2341-413a-8395-ab2f85dd2a32"
      },
      "execution_count": 13,
      "outputs": [
        {
          "output_type": "stream",
          "name": "stdout",
          "text": [
            "TF-IDF + 隨機森林 k=4 的準確率: [0.7984 0.7984 0.7996 0.8052]\n",
            "TF-IDF + 隨機森林 k=4 的平均準確率: 0.8004\n"
          ]
        }
      ]
    },
    {
      "cell_type": "code",
      "source": [
        "import numpy as np\n",
        "from gensim.models import Word2Vec\n",
        "from sklearn.ensemble import RandomForestClassifier\n",
        "from sklearn.model_selection import cross_val_score\n",
        "\n",
        "# 定義一個函數來將每個文本的詞向量取平均值\n",
        "def average_word_vectors(words, model, num_features):\n",
        "    feature_vec = np.zeros((num_features,), dtype=\"float32\")\n",
        "    nwords = 0\n",
        "    index2word_set = set(model.wv.index_to_key)  # 確保詞彙表存在\n",
        "    for word in words:\n",
        "        if word in index2word_set:  # 檢查該單詞是否在詞彙表中\n",
        "            nwords += 1\n",
        "            feature_vec = np.add(feature_vec, model.wv[word])\n",
        "    if nwords > 0:  # 避免除以0\n",
        "        feature_vec = np.divide(feature_vec, nwords)\n",
        "    return feature_vec\n",
        "\n",
        "# 確保 'Text_Split' 欄位是已經分詞的文本\n",
        "# sentences 應該是分詞過的句子的列表\n",
        "sentences = train['Text_Split'].tolist()\n",
        "\n",
        "# 訓練 Word2Vec 模型\n",
        "w2v_model = Word2Vec(sentences, vector_size=100, window=5, min_count=2, workers=4)\n",
        "\n",
        "# 將每個文本轉換為詞向量的平均值\n",
        "train_word2vec = np.array([average_word_vectors(text, w2v_model, 100) for text in train['Text_Split']])\n",
        "\n",
        "# 確保轉換後的詞向量是非空的\n",
        "print(f\"轉換後的詞向量形狀: {train_word2vec.shape}\")\n",
        "\n",
        "# 建立隨機森林模型\n",
        "rf_w2v = RandomForestClassifier(n_estimators=100, random_state=42)\n",
        "\n",
        "# 使用 k=4 進行交叉驗證\n",
        "cv_scores_w2v = cross_val_score(rf_w2v, train_word2vec, train['Sentiment'], cv=4, scoring='accuracy')\n",
        "\n",
        "# 輸出每次交叉驗證的準確率以及平均準確率\n",
        "print(\"Word2Vec + 隨機森林 k=4 的準確率:\", cv_scores_w2v)\n",
        "print(\"Word2Vec + 隨機森林 k=4 的平均準確率:\", cv_scores_w2v.mean())"
      ],
      "metadata": {
        "id": "R5dXT76IMDcr",
        "colab": {
          "base_uri": "https://localhost:8080/"
        },
        "outputId": "ba53602d-3f08-4938-de71-2b63966430e9"
      },
      "execution_count": 14,
      "outputs": [
        {
          "output_type": "stream",
          "name": "stdout",
          "text": [
            "轉換後的詞向量形狀: (10000, 100)\n",
            "Word2Vec + 隨機森林 k=4 的準確率: [0.7756 0.772  0.7692 0.7564]\n",
            "Word2Vec + 隨機森林 k=4 的平均準確率: 0.7683\n"
          ]
        }
      ]
    },
    {
      "cell_type": "code",
      "source": [
        "# 使用已訓練好的 TfidfVectorizer 轉換 test 文本\n",
        "test_tfidf_matrix = tfidf_vectorizer.transform(test['Text'])"
      ],
      "metadata": {
        "id": "2g3UY5C0PEEt"
      },
      "execution_count": 15,
      "outputs": []
    },
    {
      "cell_type": "code",
      "source": [
        "# 將 \"Text\" 欄位中的文字按照空格進行切割\n",
        "test['Text_Split'] = test['Text'].apply(lambda x: x.split())\n",
        "\n",
        "# 將每個文本轉換為詞向量的平均值，使用已訓練的 Word2Vec 模型\n",
        "test_word2vec = np.array([average_word_vectors(text, w2v_model, 100) for text in test['Text_Split']])"
      ],
      "metadata": {
        "id": "Nmwcvi9wRnNw"
      },
      "execution_count": 16,
      "outputs": []
    },
    {
      "cell_type": "code",
      "source": [
        "rf_tfidf.fit(tfidf_matrix, train['Sentiment'])\n",
        "test_predictions_tfidf = rf_tfidf.predict(test_tfidf_matrix)"
      ],
      "metadata": {
        "id": "fRldzCn5R4kQ"
      },
      "execution_count": 17,
      "outputs": []
    },
    {
      "cell_type": "code",
      "source": [
        "rf_w2v.fit(train_word2vec, train['Sentiment'])\n",
        "# 使用隨機森林模型進行預測\n",
        "test_predictions_w2v = rf_w2v.predict(test_word2vec)"
      ],
      "metadata": {
        "id": "_Wiu_Rb9SIyt"
      },
      "execution_count": 18,
      "outputs": []
    },
    {
      "cell_type": "code",
      "source": [
        "# 為 test 資料生成一個從 1 開始的 Id 欄位\n",
        "test['Id'] = range(1, len(test) + 1)  # 生成唯一的順序識別符\n",
        "\n",
        "# 建立一個 DataFrame 並填入 TF-IDF 預測結果\n",
        "submission_tfidf = pd.DataFrame({\n",
        "    'ID': test['Id'],  # 使用順序作為唯一識別符\n",
        "    'Score': test_predictions_tfidf  # 使用 TF-IDF 模型的預測結果\n",
        "})\n",
        "\n",
        "# 輸出結果至 CSV 文件，名稱為 tfidf_submission.csv\n",
        "submission_tfidf.to_csv('/content/drive/MyDrive/碩一上課堂/1131_dataMining/dataMining/HW2/tfidf_submission.csv', index=False)\n",
        "\n",
        "# 同樣的方法用於 Word2Vec 預測結果\n",
        "submission_w2v = pd.DataFrame({\n",
        "    'ID': test['Id'],  # 使用順序作為唯一識別符\n",
        "    'Score': test_predictions_w2v  # 使用 Word2Vec 模型的預測結果\n",
        "})\n",
        "\n",
        "# 輸出結果至 CSV 文件，名稱為 w2v_submission.csv\n",
        "submission_w2v.to_csv('/content/drive/MyDrive/碩一上課堂/1131_dataMining/dataMining/HW2/w2v_submission.csv', index=False)\n"
      ],
      "metadata": {
        "id": "ogZJ-c7FSOxd"
      },
      "execution_count": 19,
      "outputs": []
    },
    {
      "cell_type": "markdown",
      "source": [
        "## 透過XGboost分類\n"
      ],
      "metadata": {
        "id": "WFiONtQKSh52"
      }
    },
    {
      "cell_type": "code",
      "source": [
        "import xgboost as xgb\n",
        "from sklearn.model_selection import cross_val_score\n",
        "\n",
        "# 初始化 XGBoost 模型\n",
        "xgb_tfidf = xgb.XGBClassifier(n_estimators=100, random_state=42)\n",
        "xgb_w2v = xgb.XGBClassifier(n_estimators=100, random_state=42)\n",
        "\n",
        "# 使用 TF-IDF 特徵進行 XGBoost 訓練\n",
        "xgb_tfidf.fit(tfidf_matrix, train['Sentiment'])\n",
        "\n",
        "# 使用 Word2Vec 特徵進行 XGBoost 訓練\n",
        "xgb_w2v.fit(train_word2vec, train['Sentiment'])\n",
        "\n",
        "# 使用 TF-IDF 特徵進行預測\n",
        "test_predictions_tfidf = xgb_tfidf.predict(test_tfidf_matrix)\n",
        "\n",
        "# 使用 Word2Vec 特徵進行預測\n",
        "test_predictions_w2v = xgb_w2v.predict(test_word2vec)\n",
        "\n",
        "# 進行 k-fold 交叉驗證 (k=4) 並計算準確率\n",
        "cv_scores_tfidf = cross_val_score(xgb_tfidf, tfidf_matrix, train['Sentiment'], cv=4, scoring='accuracy')\n",
        "print(\"XGBoost (TF-IDF) k=4 的準確率:\", cv_scores_tfidf)\n",
        "print(\"XGBoost (TF-IDF) k=4 的平均準確率:\", cv_scores_tfidf.mean())\n",
        "\n",
        "cv_scores_w2v = cross_val_score(xgb_w2v, train_word2vec, train['Sentiment'], cv=4, scoring='accuracy')\n",
        "print(\"XGBoost (Word2Vec) k=4 的準確率:\", cv_scores_w2v)\n",
        "print(\"XGBoost (Word2Vec) k=4 的平均準確率:\", cv_scores_w2v.mean())\n"
      ],
      "metadata": {
        "colab": {
          "base_uri": "https://localhost:8080/"
        },
        "id": "FnUU5pnOWIHc",
        "outputId": "c9a2581e-d85f-4691-e70d-f42a6fd04c82"
      },
      "execution_count": 20,
      "outputs": [
        {
          "output_type": "stream",
          "name": "stdout",
          "text": [
            "XGBoost (TF-IDF) k=4 的準確率: [0.824  0.8228 0.8292 0.8288]\n",
            "XGBoost (TF-IDF) k=4 的平均準確率: 0.8262\n",
            "XGBoost (Word2Vec) k=4 的準確率: [0.7764 0.768  0.7716 0.7596]\n",
            "XGBoost (Word2Vec) k=4 的平均準確率: 0.7688999999999999\n"
          ]
        }
      ]
    },
    {
      "cell_type": "code",
      "source": [
        "# 為 test 資料生成一個從 1 開始的 Id 欄位\n",
        "test['Id'] = range(1, len(test) + 1)  # 生成唯一的順序識別符\n",
        "\n",
        "# 建立一個 DataFrame 並填入 TF-IDF 預測結果\n",
        "submission_tfidf = pd.DataFrame({\n",
        "    'ID': test['Id'],  # 使用順序作為唯一識別符\n",
        "    'Score': test_predictions_tfidf  # 使用 TF-IDF 模型的預測結果\n",
        "})\n",
        "\n",
        "# 輸出結果至 CSV 文件，名稱為 tfidf_submission.csv\n",
        "submission_tfidf.to_csv('/content/drive/MyDrive/碩一上課堂/1131_dataMining/dataMining/HW2/tfidf_submission.csv', index=False)\n",
        "\n",
        "# 同樣的方法用於 Word2Vec 預測結果\n",
        "submission_w2v = pd.DataFrame({\n",
        "    'ID': test['Id'],  # 使用順序作為唯一識別符\n",
        "    'Score': test_predictions_w2v  # 使用 Word2Vec 模型的預測結果\n",
        "})\n",
        "\n",
        "# 輸出結果至 CSV 文件，名稱為 w2v_submission.csv\n",
        "submission_w2v.to_csv('/content/drive/MyDrive/碩一上課堂/1131_dataMining/dataMining/HW2/w2v_submission.csv', index=False)\n"
      ],
      "metadata": {
        "id": "nCjdhn4qWJzH"
      },
      "execution_count": 21,
      "outputs": []
    },
    {
      "cell_type": "code",
      "source": [],
      "metadata": {
        "id": "LJhOzmADW4ur"
      },
      "execution_count": 21,
      "outputs": []
    }
  ]
}